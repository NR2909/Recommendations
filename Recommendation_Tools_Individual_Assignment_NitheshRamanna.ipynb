{
 "cells": [
  {
   "cell_type": "markdown",
   "id": "002c3a63",
   "metadata": {},
   "source": [
    "![](https://www.ieseg.fr/wp-content/uploads/IESEG-Logo-2012-rgb.jpg)"
   ]
  },
  {
   "cell_type": "markdown",
   "id": "5e83d00c",
   "metadata": {},
   "source": [
    "# Kaggle - Recommendation Tools Individual Assignment\n",
    "### by: NITHESH RAMANNA"
   ]
  },
  {
   "cell_type": "code",
   "execution_count": 1,
   "id": "d9f20f14",
   "metadata": {},
   "outputs": [
    {
     "name": "stderr",
     "output_type": "stream",
     "text": [
      "[nltk_data] Downloading package punkt to\n",
      "[nltk_data]     C:\\Users\\nramanna\\AppData\\Roaming\\nltk_data...\n",
      "[nltk_data]   Package punkt is already up-to-date!\n",
      "[nltk_data] Downloading package stopwords to\n",
      "[nltk_data]     C:\\Users\\nramanna\\AppData\\Roaming\\nltk_data...\n",
      "[nltk_data]   Package stopwords is already up-to-date!\n"
     ]
    }
   ],
   "source": [
    "import pandas as pd \n",
    "import numpy as np \n",
    "from sklearn.model_selection import train_test_split, cross_validate, GridSearchCV\n",
    "from surprise import Dataset, Reader, KNNBasic, SVD, accuracy\n",
    "import matplotlib.pyplot as plt\n",
    "\n",
    "# NLP packages\n",
    "import nltk # pip install nltk\n",
    "nltk.download('punkt')\n",
    "nltk.download('stopwords')\n",
    "from nltk.tokenize import word_tokenize\n",
    "from nltk.corpus import stopwords\n",
    "from sklearn.feature_extraction.text import TfidfVectorizer\n",
    "from nltk.stem.snowball import SnowballStemmer"
   ]
  },
  {
   "cell_type": "code",
   "execution_count": 2,
   "id": "7b16a219",
   "metadata": {},
   "outputs": [],
   "source": [
    "# Read all the data csv files\n",
    "data = pd.read_csv('./Data_Kaggle/train.csv')\n",
    "test_student = pd.read_csv('./Data_Kaggle/test_students.csv')\n",
    "metadata = pd.read_csv('./Data_Kaggle/metadata.csv')"
   ]
  },
  {
   "cell_type": "code",
   "execution_count": 3,
   "id": "b7b00cb8",
   "metadata": {},
   "outputs": [
    {
     "name": "stdout",
     "output_type": "stream",
     "text": [
      "<class 'pandas.core.frame.DataFrame'>\n",
      "RangeIndex: 161753 entries, 0 to 161752\n",
      "Data columns (total 8 columns):\n",
      " #   Column      Non-Null Count   Dtype  \n",
      "---  ------      --------------   -----  \n",
      " 0   userID      161753 non-null  int64  \n",
      " 1   overall     161753 non-null  float64\n",
      " 2   asin        161753 non-null  object \n",
      " 3   vote        15761 non-null   object \n",
      " 4   reviewText  161751 non-null  object \n",
      " 5   summary     161752 non-null  object \n",
      " 6   style       132112 non-null  object \n",
      " 7   image       4546 non-null    object \n",
      "dtypes: float64(1), int64(1), object(6)\n",
      "memory usage: 9.9+ MB\n"
     ]
    }
   ],
   "source": [
    "# data information\n",
    "data.info()"
   ]
  },
  {
   "cell_type": "code",
   "execution_count": 4,
   "id": "13a2ea2b",
   "metadata": {},
   "outputs": [
    {
     "data": {
      "text/plain": [
       "array([5., 2., 4., 1., 3.])"
      ]
     },
     "execution_count": 4,
     "metadata": {},
     "output_type": "execute_result"
    }
   ],
   "source": [
    "# unique values in overall column\n",
    "data.overall.unique()"
   ]
  },
  {
   "cell_type": "code",
   "execution_count": 5,
   "id": "bc5636e3",
   "metadata": {},
   "outputs": [
    {
     "name": "stdout",
     "output_type": "stream",
     "text": [
      "<class 'pandas.core.frame.DataFrame'>\n",
      "RangeIndex: 76043 entries, 0 to 76042\n",
      "Data columns (total 3 columns):\n",
      " #   Column  Non-Null Count  Dtype \n",
      "---  ------  --------------  ----- \n",
      " 0   ID      76043 non-null  object\n",
      " 1   userID  76043 non-null  int64 \n",
      " 2   asin    76043 non-null  object\n",
      "dtypes: int64(1), object(2)\n",
      "memory usage: 1.7+ MB\n"
     ]
    }
   ],
   "source": [
    "# Test Student information\n",
    "test_student.info()"
   ]
  },
  {
   "cell_type": "code",
   "execution_count": 6,
   "id": "5f8ea221",
   "metadata": {},
   "outputs": [
    {
     "data": {
      "text/html": [
       "<div>\n",
       "<style scoped>\n",
       "    .dataframe tbody tr th:only-of-type {\n",
       "        vertical-align: middle;\n",
       "    }\n",
       "\n",
       "    .dataframe tbody tr th {\n",
       "        vertical-align: top;\n",
       "    }\n",
       "\n",
       "    .dataframe thead th {\n",
       "        text-align: right;\n",
       "    }\n",
       "</style>\n",
       "<table border=\"1\" class=\"dataframe\">\n",
       "  <thead>\n",
       "    <tr style=\"text-align: right;\">\n",
       "      <th></th>\n",
       "      <th>ID</th>\n",
       "      <th>userID</th>\n",
       "      <th>asin</th>\n",
       "    </tr>\n",
       "  </thead>\n",
       "  <tbody>\n",
       "    <tr>\n",
       "      <th>0</th>\n",
       "      <td>21069B00BFK2B24</td>\n",
       "      <td>21069</td>\n",
       "      <td>B00BFK2B24</td>\n",
       "    </tr>\n",
       "    <tr>\n",
       "      <th>1</th>\n",
       "      <td>3506B00ZK0Y7R2</td>\n",
       "      <td>3506</td>\n",
       "      <td>B00ZK0Y7R2</td>\n",
       "    </tr>\n",
       "    <tr>\n",
       "      <th>2</th>\n",
       "      <td>21907B0002AQPA2</td>\n",
       "      <td>21907</td>\n",
       "      <td>B0002AQPA2</td>\n",
       "    </tr>\n",
       "    <tr>\n",
       "      <th>3</th>\n",
       "      <td>14092B0002DHXX2</td>\n",
       "      <td>14092</td>\n",
       "      <td>B0002DHXX2</td>\n",
       "    </tr>\n",
       "    <tr>\n",
       "      <th>4</th>\n",
       "      <td>3085B0006VB3SQ</td>\n",
       "      <td>3085</td>\n",
       "      <td>B0006VB3SQ</td>\n",
       "    </tr>\n",
       "    <tr>\n",
       "      <th>...</th>\n",
       "      <td>...</td>\n",
       "      <td>...</td>\n",
       "      <td>...</td>\n",
       "    </tr>\n",
       "    <tr>\n",
       "      <th>76038</th>\n",
       "      <td>9343B004GFN2ZA</td>\n",
       "      <td>9343</td>\n",
       "      <td>B004GFN2ZA</td>\n",
       "    </tr>\n",
       "    <tr>\n",
       "      <th>76039</th>\n",
       "      <td>17932B000JZOQO2</td>\n",
       "      <td>17932</td>\n",
       "      <td>B000JZOQO2</td>\n",
       "    </tr>\n",
       "    <tr>\n",
       "      <th>76040</th>\n",
       "      <td>14272B005440HLO</td>\n",
       "      <td>14272</td>\n",
       "      <td>B005440HLO</td>\n",
       "    </tr>\n",
       "    <tr>\n",
       "      <th>76041</th>\n",
       "      <td>11151B0002VAZSY</td>\n",
       "      <td>11151</td>\n",
       "      <td>B0002VAZSY</td>\n",
       "    </tr>\n",
       "    <tr>\n",
       "      <th>76042</th>\n",
       "      <td>12400B002JM0DOA</td>\n",
       "      <td>12400</td>\n",
       "      <td>B002JM0DOA</td>\n",
       "    </tr>\n",
       "  </tbody>\n",
       "</table>\n",
       "<p>76043 rows × 3 columns</p>\n",
       "</div>"
      ],
      "text/plain": [
       "                    ID  userID        asin\n",
       "0      21069B00BFK2B24   21069  B00BFK2B24\n",
       "1       3506B00ZK0Y7R2    3506  B00ZK0Y7R2\n",
       "2      21907B0002AQPA2   21907  B0002AQPA2\n",
       "3      14092B0002DHXX2   14092  B0002DHXX2\n",
       "4       3085B0006VB3SQ    3085  B0006VB3SQ\n",
       "...                ...     ...         ...\n",
       "76038   9343B004GFN2ZA    9343  B004GFN2ZA\n",
       "76039  17932B000JZOQO2   17932  B000JZOQO2\n",
       "76040  14272B005440HLO   14272  B005440HLO\n",
       "76041  11151B0002VAZSY   11151  B0002VAZSY\n",
       "76042  12400B002JM0DOA   12400  B002JM0DOA\n",
       "\n",
       "[76043 rows x 3 columns]"
      ]
     },
     "execution_count": 6,
     "metadata": {},
     "output_type": "execute_result"
    }
   ],
   "source": [
    "test_student"
   ]
  },
  {
   "cell_type": "code",
   "execution_count": 7,
   "id": "7682950d",
   "metadata": {},
   "outputs": [
    {
     "name": "stdout",
     "output_type": "stream",
     "text": [
      "<class 'pandas.core.frame.DataFrame'>\n",
      "RangeIndex: 2577 entries, 0 to 2576\n",
      "Data columns (total 8 columns):\n",
      " #   Column       Non-Null Count  Dtype \n",
      "---  ------       --------------  ----- \n",
      " 0   asin         2577 non-null   object\n",
      " 1   category     2577 non-null   object\n",
      " 2   description  2577 non-null   object\n",
      " 3   title        2577 non-null   object\n",
      " 4   image        2577 non-null   object\n",
      " 5   feature      2577 non-null   object\n",
      " 6   main_cat     2577 non-null   object\n",
      " 7   price        2217 non-null   object\n",
      "dtypes: object(8)\n",
      "memory usage: 161.2+ KB\n"
     ]
    }
   ],
   "source": [
    "# Metadata information\n",
    "metadata.info()"
   ]
  },
  {
   "cell_type": "code",
   "execution_count": 8,
   "id": "33d0ed17",
   "metadata": {},
   "outputs": [
    {
     "data": {
      "text/html": [
       "<div>\n",
       "<style scoped>\n",
       "    .dataframe tbody tr th:only-of-type {\n",
       "        vertical-align: middle;\n",
       "    }\n",
       "\n",
       "    .dataframe tbody tr th {\n",
       "        vertical-align: top;\n",
       "    }\n",
       "\n",
       "    .dataframe thead th {\n",
       "        text-align: right;\n",
       "    }\n",
       "</style>\n",
       "<table border=\"1\" class=\"dataframe\">\n",
       "  <thead>\n",
       "    <tr style=\"text-align: right;\">\n",
       "      <th></th>\n",
       "      <th>asin</th>\n",
       "      <th>category</th>\n",
       "      <th>description</th>\n",
       "      <th>title</th>\n",
       "      <th>image</th>\n",
       "      <th>feature</th>\n",
       "      <th>main_cat</th>\n",
       "      <th>price</th>\n",
       "    </tr>\n",
       "  </thead>\n",
       "  <tbody>\n",
       "    <tr>\n",
       "      <th>0</th>\n",
       "      <td>1612231977</td>\n",
       "      <td>['Pet Supplies', 'Dogs', 'Health Supplies', 'H...</td>\n",
       "      <td>['Dr. Rexy hemp oil has powerful anti-inflamma...</td>\n",
       "      <td>DR.REXY Hemp Oil for Dogs and Cats - 100% Orga...</td>\n",
       "      <td>['https://images-na.ssl-images-amazon.com/imag...</td>\n",
       "      <td>['Made strictly with organic derived ingredien...</td>\n",
       "      <td>Amazon Home</td>\n",
       "      <td>$19.90</td>\n",
       "    </tr>\n",
       "    <tr>\n",
       "      <th>1</th>\n",
       "      <td>6162622851</td>\n",
       "      <td>['Pet Supplies', 'Dogs', 'Flea &amp; Tick Control'...</td>\n",
       "      <td>['Kills and repels fleas and ticks for 8 conti...</td>\n",
       "      <td>Bayer Seresto Flea and Tick Collar for Dogs</td>\n",
       "      <td>['https://images-na.ssl-images-amazon.com/imag...</td>\n",
       "      <td>['Veterinarian-recommended ea and tick prevent...</td>\n",
       "      <td>Pet Supplies</td>\n",
       "      <td>$37.99</td>\n",
       "    </tr>\n",
       "    <tr>\n",
       "      <th>2</th>\n",
       "      <td>B00000IRNW</td>\n",
       "      <td>['Pet Supplies', 'Dogs', 'Toys', 'Balls']</td>\n",
       "      <td>['100 Rokenbok balls. 50 large blue balls and ...</td>\n",
       "      <td>Rokenbok ROK Balls</td>\n",
       "      <td>[]</td>\n",
       "      <td>['Modular- interacts with all Rokenbok', 'Roke...</td>\n",
       "      <td>Toys &amp; Games</td>\n",
       "      <td>NaN</td>\n",
       "    </tr>\n",
       "    <tr>\n",
       "      <th>3</th>\n",
       "      <td>B00004T2WR</td>\n",
       "      <td>['Pet Supplies', 'Dogs', 'Collars, Harnesses &amp;...</td>\n",
       "      <td>['The Get Up \\'n Go Discovery Center from Play...</td>\n",
       "      <td>Exclusive Playskool Electronic Activity Table</td>\n",
       "      <td>['https://images-na.ssl-images-amazon.com/imag...</td>\n",
       "      <td>[\"INTELLIGENT ANTI-INJURY CHIP: We always put ...</td>\n",
       "      <td>Pet Supplies</td>\n",
       "      <td>NaN</td>\n",
       "    </tr>\n",
       "    <tr>\n",
       "      <th>4</th>\n",
       "      <td>B00005MF9U</td>\n",
       "      <td>['Pet Supplies', 'Cats', 'Litter &amp;amp; Housebr...</td>\n",
       "      <td>['LitterMaid LM900 self-cleaning cat litter bo...</td>\n",
       "      <td>LitterMaid LM900 Mega Self-Cleaning Litter Box</td>\n",
       "      <td>['https://images-na.ssl-images-amazon.com/imag...</td>\n",
       "      <td>['Automatically rakes waste into sealable cont...</td>\n",
       "      <td>Pet Supplies</td>\n",
       "      <td>NaN</td>\n",
       "    </tr>\n",
       "  </tbody>\n",
       "</table>\n",
       "</div>"
      ],
      "text/plain": [
       "         asin                                           category  \\\n",
       "0  1612231977  ['Pet Supplies', 'Dogs', 'Health Supplies', 'H...   \n",
       "1  6162622851  ['Pet Supplies', 'Dogs', 'Flea & Tick Control'...   \n",
       "2  B00000IRNW          ['Pet Supplies', 'Dogs', 'Toys', 'Balls']   \n",
       "3  B00004T2WR  ['Pet Supplies', 'Dogs', 'Collars, Harnesses &...   \n",
       "4  B00005MF9U  ['Pet Supplies', 'Cats', 'Litter &amp; Housebr...   \n",
       "\n",
       "                                         description  \\\n",
       "0  ['Dr. Rexy hemp oil has powerful anti-inflamma...   \n",
       "1  ['Kills and repels fleas and ticks for 8 conti...   \n",
       "2  ['100 Rokenbok balls. 50 large blue balls and ...   \n",
       "3  ['The Get Up \\'n Go Discovery Center from Play...   \n",
       "4  ['LitterMaid LM900 self-cleaning cat litter bo...   \n",
       "\n",
       "                                               title  \\\n",
       "0  DR.REXY Hemp Oil for Dogs and Cats - 100% Orga...   \n",
       "1        Bayer Seresto Flea and Tick Collar for Dogs   \n",
       "2                                 Rokenbok ROK Balls   \n",
       "3      Exclusive Playskool Electronic Activity Table   \n",
       "4     LitterMaid LM900 Mega Self-Cleaning Litter Box   \n",
       "\n",
       "                                               image  \\\n",
       "0  ['https://images-na.ssl-images-amazon.com/imag...   \n",
       "1  ['https://images-na.ssl-images-amazon.com/imag...   \n",
       "2                                                 []   \n",
       "3  ['https://images-na.ssl-images-amazon.com/imag...   \n",
       "4  ['https://images-na.ssl-images-amazon.com/imag...   \n",
       "\n",
       "                                             feature      main_cat   price  \n",
       "0  ['Made strictly with organic derived ingredien...   Amazon Home  $19.90  \n",
       "1  ['Veterinarian-recommended ea and tick prevent...  Pet Supplies  $37.99  \n",
       "2  ['Modular- interacts with all Rokenbok', 'Roke...  Toys & Games     NaN  \n",
       "3  [\"INTELLIGENT ANTI-INJURY CHIP: We always put ...  Pet Supplies     NaN  \n",
       "4  ['Automatically rakes waste into sealable cont...  Pet Supplies     NaN  "
      ]
     },
     "execution_count": 8,
     "metadata": {},
     "output_type": "execute_result"
    }
   ],
   "source": [
    "metadata.head()"
   ]
  },
  {
   "cell_type": "code",
   "execution_count": 9,
   "id": "2c29aa87",
   "metadata": {},
   "outputs": [
    {
     "data": {
      "text/plain": [
       "2577"
      ]
     },
     "execution_count": 9,
     "metadata": {},
     "output_type": "execute_result"
    }
   ],
   "source": [
    "# Length of metadata\n",
    "len(metadata)"
   ]
  },
  {
   "cell_type": "code",
   "execution_count": 10,
   "id": "b6c0b9c0",
   "metadata": {},
   "outputs": [],
   "source": [
    "# Remove the duplicates in metadata\n",
    "metadata = metadata.drop_duplicates(subset = [\"asin\"])"
   ]
  },
  {
   "cell_type": "code",
   "execution_count": 11,
   "id": "c791a22e",
   "metadata": {},
   "outputs": [
    {
     "data": {
      "text/plain": [
       "2307"
      ]
     },
     "execution_count": 11,
     "metadata": {},
     "output_type": "execute_result"
    }
   ],
   "source": [
    "len(metadata)"
   ]
  },
  {
   "cell_type": "code",
   "execution_count": 12,
   "id": "5fa576ad",
   "metadata": {},
   "outputs": [
    {
     "data": {
      "text/plain": [
       "2307"
      ]
     },
     "execution_count": 12,
     "metadata": {},
     "output_type": "execute_result"
    }
   ],
   "source": [
    "metadata['asin'].nunique()"
   ]
  },
  {
   "cell_type": "code",
   "execution_count": 13,
   "id": "48a11a81",
   "metadata": {},
   "outputs": [
    {
     "data": {
      "text/html": [
       "<div>\n",
       "<style scoped>\n",
       "    .dataframe tbody tr th:only-of-type {\n",
       "        vertical-align: middle;\n",
       "    }\n",
       "\n",
       "    .dataframe tbody tr th {\n",
       "        vertical-align: top;\n",
       "    }\n",
       "\n",
       "    .dataframe thead th {\n",
       "        text-align: right;\n",
       "    }\n",
       "</style>\n",
       "<table border=\"1\" class=\"dataframe\">\n",
       "  <thead>\n",
       "    <tr style=\"text-align: right;\">\n",
       "      <th></th>\n",
       "      <th>userID</th>\n",
       "      <th>overall</th>\n",
       "      <th>asin</th>\n",
       "      <th>vote</th>\n",
       "      <th>reviewText</th>\n",
       "      <th>summary</th>\n",
       "      <th>style</th>\n",
       "      <th>image</th>\n",
       "    </tr>\n",
       "  </thead>\n",
       "  <tbody>\n",
       "    <tr>\n",
       "      <th>0</th>\n",
       "      <td>13527</td>\n",
       "      <td>5.0</td>\n",
       "      <td>B0002565TI</td>\n",
       "      <td>NaN</td>\n",
       "      <td>These filters used to be sold at PetCo, but no...</td>\n",
       "      <td>Great Place to Get Filte-rs</td>\n",
       "      <td>NaN</td>\n",
       "      <td>NaN</td>\n",
       "    </tr>\n",
       "    <tr>\n",
       "      <th>1</th>\n",
       "      <td>14608</td>\n",
       "      <td>2.0</td>\n",
       "      <td>B0002H3ZLM</td>\n",
       "      <td>NaN</td>\n",
       "      <td>Did not work for my large- does. Returned it.</td>\n",
       "      <td>T#wo Stars</td>\n",
       "      <td>{'Size:': ' LARGE 60-130 LBS.', 'Color:': ' BL...</td>\n",
       "      <td>NaN</td>\n",
       "    </tr>\n",
       "    <tr>\n",
       "      <th>2</th>\n",
       "      <td>15536</td>\n",
       "      <td>5.0</td>\n",
       "      <td>B0009YD8OC</td>\n",
       "      <td>NaN</td>\n",
       "      <td>I was pretty skeptical that this would be easy...</td>\n",
       "      <td>stops pulling in a 6 month 60{ pound pup great!</td>\n",
       "      <td>NaN</td>\n",
       "      <td>NaN</td>\n",
       "    </tr>\n",
       "    <tr>\n",
       "      <th>3</th>\n",
       "      <td>12868</td>\n",
       "      <td>5.0</td>\n",
       "      <td>B001VPA9OK</td>\n",
       "      <td>NaN</td>\n",
       "      <td>Works great for groom-ing my dog. A must have.</td>\n",
       "      <td>Five /Stars</td>\n",
       "      <td>{'Color:': ' Silver'}</td>\n",
       "      <td>NaN</td>\n",
       "    </tr>\n",
       "    <tr>\n",
       "      <th>4</th>\n",
       "      <td>181</td>\n",
       "      <td>5.0</td>\n",
       "      <td>B000K67UF2</td>\n",
       "      <td>NaN</td>\n",
       "      <td>Great cage for budgies! I cant say enough marv...</td>\n",
       "      <td>Great cage for budg{ies</td>\n",
       "      <td>{'Size:': ' Medium', 'Pattern:': ' MO2 Cage'}</td>\n",
       "      <td>NaN</td>\n",
       "    </tr>\n",
       "  </tbody>\n",
       "</table>\n",
       "</div>"
      ],
      "text/plain": [
       "   userID  overall        asin vote  \\\n",
       "0   13527      5.0  B0002565TI  NaN   \n",
       "1   14608      2.0  B0002H3ZLM  NaN   \n",
       "2   15536      5.0  B0009YD8OC  NaN   \n",
       "3   12868      5.0  B001VPA9OK  NaN   \n",
       "4     181      5.0  B000K67UF2  NaN   \n",
       "\n",
       "                                          reviewText  \\\n",
       "0  These filters used to be sold at PetCo, but no...   \n",
       "1      Did not work for my large- does. Returned it.   \n",
       "2  I was pretty skeptical that this would be easy...   \n",
       "3     Works great for groom-ing my dog. A must have.   \n",
       "4  Great cage for budgies! I cant say enough marv...   \n",
       "\n",
       "                                           summary  \\\n",
       "0                      Great Place to Get Filte-rs   \n",
       "1                                       T#wo Stars   \n",
       "2  stops pulling in a 6 month 60{ pound pup great!   \n",
       "3                                      Five /Stars   \n",
       "4                          Great cage for budg{ies   \n",
       "\n",
       "                                               style image  \n",
       "0                                                NaN   NaN  \n",
       "1  {'Size:': ' LARGE 60-130 LBS.', 'Color:': ' BL...   NaN  \n",
       "2                                                NaN   NaN  \n",
       "3                              {'Color:': ' Silver'}   NaN  \n",
       "4      {'Size:': ' Medium', 'Pattern:': ' MO2 Cage'}   NaN  "
      ]
     },
     "execution_count": 13,
     "metadata": {},
     "output_type": "execute_result"
    }
   ],
   "source": [
    "data.head()"
   ]
  },
  {
   "cell_type": "code",
   "execution_count": 14,
   "id": "896106ef",
   "metadata": {},
   "outputs": [
    {
     "data": {
      "text/plain": [
       "userID             0\n",
       "overall            0\n",
       "asin               0\n",
       "vote          145992\n",
       "reviewText         2\n",
       "summary            1\n",
       "style          29641\n",
       "image         157207\n",
       "dtype: int64"
      ]
     },
     "execution_count": 14,
     "metadata": {},
     "output_type": "execute_result"
    }
   ],
   "source": [
    "# Checking for NAs\n",
    "data.isna().sum()"
   ]
  },
  {
   "cell_type": "code",
   "execution_count": 15,
   "id": "d4567e01",
   "metadata": {},
   "outputs": [],
   "source": [
    "# Train test split with test size of 30% of the data\n",
    "train, test = train_test_split(data,test_size=0.30, random_state = 42)"
   ]
  },
  {
   "cell_type": "code",
   "execution_count": 16,
   "id": "8f69e2bd",
   "metadata": {},
   "outputs": [],
   "source": [
    "# set up reader with min rating and max rating as arguments\n",
    "reader = Reader(rating_scale=(1, 5))\n",
    "# surprise training and test set\n",
    "df_train = Dataset.load_from_df(train[['userID', 'asin', 'overall']] , reader).build_full_trainset()\n",
    "df_test = list(test[['userID', 'asin', 'overall']].itertuples(index=False, name=None))"
   ]
  },
  {
   "cell_type": "markdown",
   "id": "7bc4cb39",
   "metadata": {},
   "source": [
    "# User Based"
   ]
  },
  {
   "cell_type": "code",
   "execution_count": 17,
   "id": "068d4ce8",
   "metadata": {},
   "outputs": [
    {
     "name": "stdout",
     "output_type": "stream",
     "text": [
      "Estimating biases using als...\n",
      "Computing the pearson_baseline similarity matrix...\n",
      "Done computing similarity matrix.\n",
      "RMSE: 1.1349\n"
     ]
    },
    {
     "data": {
      "text/plain": [
       "1.1348948724904777"
      ]
     },
     "execution_count": 17,
     "metadata": {},
     "output_type": "execute_result"
    }
   ],
   "source": [
    "# define options for sim_options parameter\n",
    "options = {'name':'pearson_baseline', 'user_based':True, 'shrinkage': 0}\n",
    "\n",
    "np.random.seed(50)\n",
    "# Init model\n",
    "model_KNN1 = KNNBasic(k = 40 , min_k= 5,  sim_options=options)\n",
    "# fit on training set\n",
    "model_KNN1.fit(df_train)\n",
    "# predict test set\n",
    "user_based = model_KNN1.test(df_test)\n",
    "from surprise import accuracy\n",
    "# compute rmse\n",
    "accuracy.rmse(user_based)"
   ]
  },
  {
   "cell_type": "markdown",
   "id": "b8a175cd",
   "metadata": {},
   "source": [
    "# ITEM BASED"
   ]
  },
  {
   "cell_type": "code",
   "execution_count": 18,
   "id": "13992217",
   "metadata": {},
   "outputs": [
    {
     "name": "stdout",
     "output_type": "stream",
     "text": [
      "Estimating biases using als...\n",
      "Computing the pearson_baseline similarity matrix...\n",
      "Done computing similarity matrix.\n",
      "RMSE: 1.1384\n"
     ]
    },
    {
     "data": {
      "text/plain": [
       "1.1384328056376873"
      ]
     },
     "execution_count": 18,
     "metadata": {},
     "output_type": "execute_result"
    }
   ],
   "source": [
    "# define options for sim_options parameter\n",
    "options = {'name':'pearson_baseline', 'user_based':False, 'shrinkage': 10}\n",
    "\n",
    "np.random.seed(50)\n",
    "# Init model\n",
    "model_KNN1 = KNNBasic(k = 40 , min_k= 4,  sim_options=options)\n",
    "# fit on training set\n",
    "model_KNN1.fit(df_train)\n",
    "# predict test set\n",
    "item_based = model_KNN1.test(df_test)\n",
    "from surprise import accuracy\n",
    "# compute rmse\n",
    "accuracy.rmse(item_based)"
   ]
  },
  {
   "cell_type": "markdown",
   "id": "f6a75470",
   "metadata": {},
   "source": [
    "# SVD"
   ]
  },
  {
   "cell_type": "code",
   "execution_count": 19,
   "id": "21de37b1",
   "metadata": {},
   "outputs": [
    {
     "name": "stdout",
     "output_type": "stream",
     "text": [
      "RMSE: 1.0789\n"
     ]
    },
    {
     "data": {
      "text/plain": [
       "1.0789163692970707"
      ]
     },
     "execution_count": 19,
     "metadata": {},
     "output_type": "execute_result"
    }
   ],
   "source": [
    "# Matrix Factorization: SVD\n",
    "svd = SVD()\n",
    "# fit on training set\n",
    "svd.fit(df_train)\n",
    "# predict test set\n",
    "pred_svd = svd.test(df_test)\n",
    "# compute rmse\n",
    "accuracy.rmse(pred_svd) "
   ]
  },
  {
   "cell_type": "code",
   "execution_count": 20,
   "id": "e82d942c",
   "metadata": {},
   "outputs": [],
   "source": [
    "# predict the rating and write to csv file\n",
    "pred_list = list()\n",
    "\n",
    "for i in range(len(test_student)):\n",
    "    u_i = test_student.iloc[i,:]\n",
    "    pred_list.append(svd.predict(u_i.userID,u_i.asin).est)\n",
    "\n",
    "pred_ratings = pd.concat([test_student,pd.DataFrame(pred_list)], axis = 1)\n",
    "del pred_ratings['userID'], pred_ratings['asin']\n",
    "pred_ratings = pred_ratings.rename(columns = {'ID':'ID', 0:'overall'})\n",
    "pred_ratings.to_csv('./Data_Kaggle/pred_ratings.csv', index = False)"
   ]
  },
  {
   "cell_type": "markdown",
   "id": "9a87abfa",
   "metadata": {},
   "source": [
    "# Co-Clustering"
   ]
  },
  {
   "cell_type": "code",
   "execution_count": 21,
   "id": "36c27c15",
   "metadata": {},
   "outputs": [
    {
     "name": "stderr",
     "output_type": "stream",
     "text": [
      "C:\\Users\\nramanna\\AppData\\Local\\Temp/ipykernel_16036/2240945793.py:4: DeprecationWarning: `np.int` is a deprecated alias for the builtin `int`. To silence this warning, use `int` by itself. Doing this will not modify any behavior and is safe. When replacing `np.int`, you may wish to use e.g. `np.int64` or `np.int32` to specify the precision. If you wish to review your current use, check the release note link for additional information.\n",
      "Deprecated in NumPy 1.20; for more details and guidance: https://numpy.org/devdocs/release/1.20.0-notes.html#deprecations\n",
      "  clust.fit(df_train)\n"
     ]
    },
    {
     "name": "stdout",
     "output_type": "stream",
     "text": [
      "RMSE: 1.2300\n"
     ]
    },
    {
     "data": {
      "text/plain": [
       "1.2299648947712316"
      ]
     },
     "execution_count": 21,
     "metadata": {},
     "output_type": "execute_result"
    }
   ],
   "source": [
    "from surprise import CoClustering\n",
    "# Define model\n",
    "clust = CoClustering(n_cltr_u=4, n_cltr_i=4, n_epochs=25, random_state=42)\n",
    "# fit on training set\n",
    "clust.fit(df_train)\n",
    "# predict test set\n",
    "clust_pred = clust.test(df_test)\n",
    "# compute rmse\n",
    "accuracy.rmse(clust_pred)"
   ]
  },
  {
   "cell_type": "markdown",
   "id": "10afb1e8",
   "metadata": {},
   "source": [
    "# Content Based"
   ]
  },
  {
   "cell_type": "code",
   "execution_count": 22,
   "id": "c49a3535",
   "metadata": {},
   "outputs": [],
   "source": [
    "# Tokenize, case conversion & only alphabetic\n",
    "tokens = metadata['description'].apply(lambda txt: [word.lower() for word in word_tokenize(str(txt)) if word.isalpha()])\n",
    "# setup stop words list\n",
    "stop_words = stopwords.words('english')\n",
    "stop_words.append('nan')\n",
    "\n",
    "stemmer = SnowballStemmer(\"english\")\n",
    "\n",
    "# remove stopwords, stem\n",
    "token_stem = tokens.apply(lambda lst_token: [stemmer.stem(tok) for tok in lst_token if tok not in stop_words and len(tok) > 2])"
   ]
  },
  {
   "cell_type": "code",
   "execution_count": 23,
   "id": "27f88324",
   "metadata": {},
   "outputs": [
    {
     "name": "stdout",
     "output_type": "stream",
     "text": [
      "(2307, 2874)\n"
     ]
    },
    {
     "name": "stderr",
     "output_type": "stream",
     "text": [
      "C:\\tools\\Anaconda3\\envs\\py\\lib\\site-packages\\sklearn\\utils\\deprecation.py:87: FutureWarning: Function get_feature_names is deprecated; get_feature_names is deprecated in 1.0 and will be removed in 1.2. Please use get_feature_names_out instead.\n",
      "  warnings.warn(msg, category=FutureWarning)\n"
     ]
    },
    {
     "data": {
      "text/html": [
       "<div>\n",
       "<style scoped>\n",
       "    .dataframe tbody tr th:only-of-type {\n",
       "        vertical-align: middle;\n",
       "    }\n",
       "\n",
       "    .dataframe tbody tr th {\n",
       "        vertical-align: top;\n",
       "    }\n",
       "\n",
       "    .dataframe thead th {\n",
       "        text-align: right;\n",
       "    }\n",
       "</style>\n",
       "<table border=\"1\" class=\"dataframe\">\n",
       "  <thead>\n",
       "    <tr style=\"text-align: right;\">\n",
       "      <th></th>\n",
       "      <th>aaa</th>\n",
       "      <th>aafco</th>\n",
       "      <th>ab</th>\n",
       "      <th>abil</th>\n",
       "      <th>abl</th>\n",
       "      <th>abras</th>\n",
       "      <th>absolut</th>\n",
       "      <th>absorb</th>\n",
       "      <th>absorpt</th>\n",
       "      <th>abus</th>\n",
       "      <th>...</th>\n",
       "      <th>zealand</th>\n",
       "      <th>zero</th>\n",
       "      <th>zinc</th>\n",
       "      <th>zip</th>\n",
       "      <th>zipper</th>\n",
       "      <th>zippypaw</th>\n",
       "      <th>zogoflex</th>\n",
       "      <th>zone</th>\n",
       "      <th>zoo</th>\n",
       "      <th>zuke</th>\n",
       "    </tr>\n",
       "    <tr>\n",
       "      <th>asin</th>\n",
       "      <th></th>\n",
       "      <th></th>\n",
       "      <th></th>\n",
       "      <th></th>\n",
       "      <th></th>\n",
       "      <th></th>\n",
       "      <th></th>\n",
       "      <th></th>\n",
       "      <th></th>\n",
       "      <th></th>\n",
       "      <th></th>\n",
       "      <th></th>\n",
       "      <th></th>\n",
       "      <th></th>\n",
       "      <th></th>\n",
       "      <th></th>\n",
       "      <th></th>\n",
       "      <th></th>\n",
       "      <th></th>\n",
       "      <th></th>\n",
       "      <th></th>\n",
       "    </tr>\n",
       "  </thead>\n",
       "  <tbody>\n",
       "    <tr>\n",
       "      <th>1612231977</th>\n",
       "      <td>0.0</td>\n",
       "      <td>0.0</td>\n",
       "      <td>0.0</td>\n",
       "      <td>0.0</td>\n",
       "      <td>0.0</td>\n",
       "      <td>0.0</td>\n",
       "      <td>0.0</td>\n",
       "      <td>0.0</td>\n",
       "      <td>0.0</td>\n",
       "      <td>0.0</td>\n",
       "      <td>...</td>\n",
       "      <td>0.0</td>\n",
       "      <td>0.0</td>\n",
       "      <td>0.0</td>\n",
       "      <td>0.0</td>\n",
       "      <td>0.0</td>\n",
       "      <td>0.0</td>\n",
       "      <td>0.0</td>\n",
       "      <td>0.0</td>\n",
       "      <td>0.000000</td>\n",
       "      <td>0.0</td>\n",
       "    </tr>\n",
       "    <tr>\n",
       "      <th>6162622851</th>\n",
       "      <td>0.0</td>\n",
       "      <td>0.0</td>\n",
       "      <td>0.0</td>\n",
       "      <td>0.0</td>\n",
       "      <td>0.0</td>\n",
       "      <td>0.0</td>\n",
       "      <td>0.0</td>\n",
       "      <td>0.0</td>\n",
       "      <td>0.0</td>\n",
       "      <td>0.0</td>\n",
       "      <td>...</td>\n",
       "      <td>0.0</td>\n",
       "      <td>0.0</td>\n",
       "      <td>0.0</td>\n",
       "      <td>0.0</td>\n",
       "      <td>0.0</td>\n",
       "      <td>0.0</td>\n",
       "      <td>0.0</td>\n",
       "      <td>0.0</td>\n",
       "      <td>0.000000</td>\n",
       "      <td>0.0</td>\n",
       "    </tr>\n",
       "    <tr>\n",
       "      <th>B00000IRNW</th>\n",
       "      <td>0.0</td>\n",
       "      <td>0.0</td>\n",
       "      <td>0.0</td>\n",
       "      <td>0.0</td>\n",
       "      <td>0.0</td>\n",
       "      <td>0.0</td>\n",
       "      <td>0.0</td>\n",
       "      <td>0.0</td>\n",
       "      <td>0.0</td>\n",
       "      <td>0.0</td>\n",
       "      <td>...</td>\n",
       "      <td>0.0</td>\n",
       "      <td>0.0</td>\n",
       "      <td>0.0</td>\n",
       "      <td>0.0</td>\n",
       "      <td>0.0</td>\n",
       "      <td>0.0</td>\n",
       "      <td>0.0</td>\n",
       "      <td>0.0</td>\n",
       "      <td>0.000000</td>\n",
       "      <td>0.0</td>\n",
       "    </tr>\n",
       "    <tr>\n",
       "      <th>B00004T2WR</th>\n",
       "      <td>0.0</td>\n",
       "      <td>0.0</td>\n",
       "      <td>0.0</td>\n",
       "      <td>0.0</td>\n",
       "      <td>0.0</td>\n",
       "      <td>0.0</td>\n",
       "      <td>0.0</td>\n",
       "      <td>0.0</td>\n",
       "      <td>0.0</td>\n",
       "      <td>0.0</td>\n",
       "      <td>...</td>\n",
       "      <td>0.0</td>\n",
       "      <td>0.0</td>\n",
       "      <td>0.0</td>\n",
       "      <td>0.0</td>\n",
       "      <td>0.0</td>\n",
       "      <td>0.0</td>\n",
       "      <td>0.0</td>\n",
       "      <td>0.0</td>\n",
       "      <td>0.086788</td>\n",
       "      <td>0.0</td>\n",
       "    </tr>\n",
       "    <tr>\n",
       "      <th>B00005MF9U</th>\n",
       "      <td>0.0</td>\n",
       "      <td>0.0</td>\n",
       "      <td>0.0</td>\n",
       "      <td>0.0</td>\n",
       "      <td>0.0</td>\n",
       "      <td>0.0</td>\n",
       "      <td>0.0</td>\n",
       "      <td>0.0</td>\n",
       "      <td>0.0</td>\n",
       "      <td>0.0</td>\n",
       "      <td>...</td>\n",
       "      <td>0.0</td>\n",
       "      <td>0.0</td>\n",
       "      <td>0.0</td>\n",
       "      <td>0.0</td>\n",
       "      <td>0.0</td>\n",
       "      <td>0.0</td>\n",
       "      <td>0.0</td>\n",
       "      <td>0.0</td>\n",
       "      <td>0.000000</td>\n",
       "      <td>0.0</td>\n",
       "    </tr>\n",
       "  </tbody>\n",
       "</table>\n",
       "<p>5 rows × 2874 columns</p>\n",
       "</div>"
      ],
      "text/plain": [
       "            aaa  aafco   ab  abil  abl  abras  absolut  absorb  absorpt  abus  \\\n",
       "asin                                                                            \n",
       "1612231977  0.0    0.0  0.0   0.0  0.0    0.0      0.0     0.0      0.0   0.0   \n",
       "6162622851  0.0    0.0  0.0   0.0  0.0    0.0      0.0     0.0      0.0   0.0   \n",
       "B00000IRNW  0.0    0.0  0.0   0.0  0.0    0.0      0.0     0.0      0.0   0.0   \n",
       "B00004T2WR  0.0    0.0  0.0   0.0  0.0    0.0      0.0     0.0      0.0   0.0   \n",
       "B00005MF9U  0.0    0.0  0.0   0.0  0.0    0.0      0.0     0.0      0.0   0.0   \n",
       "\n",
       "            ...  zealand  zero  zinc  zip  zipper  zippypaw  zogoflex  zone  \\\n",
       "asin        ...                                                               \n",
       "1612231977  ...      0.0   0.0   0.0  0.0     0.0       0.0       0.0   0.0   \n",
       "6162622851  ...      0.0   0.0   0.0  0.0     0.0       0.0       0.0   0.0   \n",
       "B00000IRNW  ...      0.0   0.0   0.0  0.0     0.0       0.0       0.0   0.0   \n",
       "B00004T2WR  ...      0.0   0.0   0.0  0.0     0.0       0.0       0.0   0.0   \n",
       "B00005MF9U  ...      0.0   0.0   0.0  0.0     0.0       0.0       0.0   0.0   \n",
       "\n",
       "                 zoo  zuke  \n",
       "asin                        \n",
       "1612231977  0.000000   0.0  \n",
       "6162622851  0.000000   0.0  \n",
       "B00000IRNW  0.000000   0.0  \n",
       "B00004T2WR  0.086788   0.0  \n",
       "B00005MF9U  0.000000   0.0  \n",
       "\n",
       "[5 rows x 2874 columns]"
      ]
     },
     "execution_count": 23,
     "metadata": {},
     "output_type": "execute_result"
    }
   ],
   "source": [
    "# TFIDF vectorizer\n",
    "tfidf = TfidfVectorizer(min_df=5)\n",
    "\n",
    "# apply tf-idf vectorizer -> document-term-matrix in sparse format\n",
    "dtm = tfidf.fit_transform([\" \".join(x) for x in token_stem])\n",
    "\n",
    "print(dtm.shape)\n",
    "\n",
    "df_dtm = pd.DataFrame(dtm.toarray(), columns=tfidf.get_feature_names(), index=metadata.asin)\n",
    "df_dtm.head()"
   ]
  },
  {
   "cell_type": "code",
   "execution_count": 24,
   "id": "a73de51f",
   "metadata": {},
   "outputs": [],
   "source": [
    "# Content Based as a Class\n",
    "from sklearn.metrics.pairwise import cosine_similarity\n",
    "import surprise\n",
    "\n",
    "# Content Based as a Class\n",
    "class ContentBased:\n",
    "\n",
    "    def __init__(self, NN):\n",
    "        self.NN = NN\n",
    "        self.fitted = {\"content\":False, \"ratings\":False}\n",
    "        \n",
    "    def fit(self, content_data):\n",
    "\n",
    "        self.items = content_data.index.values\n",
    "        self.item_dim = len(self.items)\n",
    "        # check for duplicate items\n",
    "        assert (len(self.items) == len(set(self.items))), \"Duplicate items in content data!\"\n",
    "\n",
    "        # compute similarity\n",
    "        self.matrix = cosine_similarity(content_data.values)\n",
    "        np.fill_diagonal(self.matrix, 0)\n",
    "        \n",
    "        self.matrixNN = self.matrix.copy()\n",
    "\n",
    "        # filter similarity matrix for NN nearest neighbors (constraint: non-negative similarity)\n",
    "        for i in range(self.item_dim):\n",
    "            crit_val = max(-np.sort(-self.matrix[i])[self.NN-1], 0)\n",
    "            self.matrixNN[i][self.matrixNN[i] < crit_val] = 0.0\n",
    "        \n",
    "        self.fitted[\"content\"] = True\n",
    "\n",
    "    # helper -> transform surprise.trainset.Trainset to pd.DataFrame\n",
    "    def _trainset2list(self, trainset):\n",
    "        return pd.DataFrame([(trainset.to_raw_uid(u), trainset.to_raw_iid(i), r) for (u, i, r) in trainset.all_ratings()], columns=[\"user\", \"item\", \"rating\"])\n",
    "\n",
    "    def fit_ratings(self, df):\n",
    "\n",
    "        if not self.fitted[\"content\"]:\n",
    "            raise Exception(\"Fit model on content data!\")\n",
    "\n",
    "        if isinstance(df, surprise.trainset.Trainset):\n",
    "            df = self._trainset2list(df)\n",
    "        \n",
    "        # fix unknown items\n",
    "        unknown_items = list(set(df[\"item\"]) - set(self.items))\n",
    "        if len(unknown_items) > 0:\n",
    "            print(f\"Warning {len(unknown_items)} items are not included in content data: {unknown_items}\")\n",
    "        df = df[df[\"item\"].isin(self.items)].reset_index(drop=True)\n",
    "\n",
    "        # store user data\n",
    "        self.users = np.unique(df[\"user\"])\n",
    "        self.user_dim = len(self.users)\n",
    "\n",
    "        # fix missing items\n",
    "        missing_items = list(set(self.items) - set(df[\"item\"]))\n",
    "        if len(missing_items) > 0: \n",
    "            fix_df = pd.DataFrame([{\"user\":np.nan, \"item\":i, \"rating\":np.nan} for i in missing_items])\n",
    "            df = df.append(fix_df).reset_index(drop=True)\n",
    "\n",
    "        # pivot \n",
    "        df_pivot = df.pivot_table(index='user', values='rating', columns='item', dropna=False).reindex(self.users)\n",
    "\n",
    "        # row-wise (user) average\n",
    "        self.user_avg = np.array(np.mean(df_pivot, axis=1))\n",
    "        self.global_mean = np.mean(self.user_avg)\n",
    "\n",
    "        # center ratings\n",
    "        df_pivot = df_pivot.sub(self.user_avg, axis=0).fillna(0)\n",
    "\n",
    "        # predict ratings for each item \n",
    "        denom = self.matrixNN.sum(axis=0) # column sums\n",
    "        self.prediction = (np.matmul(df_pivot.values, self.matrixNN) / denom) + self.user_avg[:,np.newaxis]\n",
    "\n",
    "        # replace NA values with mean\n",
    "        # prediction[np.isnan(prediction)] = self.global_mean\n",
    "\n",
    "        self.fitted[\"ratings\"] = True\n",
    "    \n",
    "    # get predicted value for user-item combination\n",
    "    def predict(self, user, item, r_ui=None):\n",
    "        details = {\"was_impossible\":False}\n",
    "\n",
    "        # check whether user and item are unknown -> default = global average rating\n",
    "        if self.knows_user(user) & self.knows_item(item):\n",
    "\n",
    "            # convert user & item in internal ids\n",
    "            iid = np.where(self.items == item)[0].item()\n",
    "            uid = np.where(self.users == user)[0].item()\n",
    "\n",
    "            # inference prediction\n",
    "            est = self.prediction[uid, iid]\n",
    "            \n",
    "            if np.isnan(est): \n",
    "                est = self.global_mean\n",
    "                details[\"was_impossible\"] = True\n",
    "            return surprise.Prediction(user, item, r_ui, est, details)\n",
    "        \n",
    "        else:\n",
    "            details[\"was_impossible\"] = True\n",
    "            details[\"reason\"] = \"User or item unknown\"\n",
    "            return surprise.Prediction(user, item, r_ui, self.global_mean, details)\n",
    "\n",
    "    # predict entire testset\n",
    "    def test(self, testset):\n",
    "        if not self.fitted[\"ratings\"]:\n",
    "            raise Exception(\"Fit model on ratings data!\")\n",
    "        return [self.predict(user=u,item=i,r_ui=r) for (u,i,r) in testset]\n",
    "\n",
    "    def knows_user(self, user):\n",
    "        return user in self.users   \n",
    "\n",
    "    def knows_item(self, item):\n",
    "        return item in self.items        \n",
    "\n",
    "    # get topn most similar items \n",
    "    def get_most_similar(self, item, topn=5):\n",
    "\n",
    "        # get iid\n",
    "        if self.knows_item(item):\n",
    "            iid = np.where(self.items == item)[0].item()\n",
    "        else:\n",
    "            raise Exception(f\"Item {item} unknown ...\")\n",
    "        \n",
    "        list_iids = (-self.matrix[iid]).argsort()[:topn]\n",
    "        return self.items[list_iids]\n",
    "\n",
    "    def get_similarities(self):\n",
    "        print('Cosine similarities shape: ({}, {}) items x items'.format(self.item_dim, self.item_dim))\n",
    "        return self.matrix\n"
   ]
  },
  {
   "cell_type": "code",
   "execution_count": 25,
   "id": "166db301",
   "metadata": {},
   "outputs": [
    {
     "name": "stdout",
     "output_type": "stream",
     "text": [
      "Warning 3 items are not included in content data: ['B0016W9NRM', 'B001ABK832', 'B001B1OK26']\n"
     ]
    },
    {
     "name": "stderr",
     "output_type": "stream",
     "text": [
      "C:\\Users\\nramanna\\AppData\\Local\\Temp/ipykernel_16036/568737500.py:72: RuntimeWarning: invalid value encountered in true_divide\n",
      "  self.prediction = (np.matmul(df_pivot.values, self.matrixNN) / denom) + self.user_avg[:,np.newaxis]\n"
     ]
    }
   ],
   "source": [
    "# init content-based\n",
    "cb = ContentBased(NN=20)\n",
    "# fit on content\n",
    "cb.fit(df_dtm)\n",
    "# fit on train_ratings\n",
    "cb.fit_ratings(df_train)\n",
    "# predict test ratings\n",
    "cb_pred = cb.test(df_test)"
   ]
  },
  {
   "cell_type": "code",
   "execution_count": 26,
   "id": "f0ebe2f8",
   "metadata": {},
   "outputs": [
    {
     "name": "stdout",
     "output_type": "stream",
     "text": [
      "RMSE: 1.1650\n"
     ]
    },
    {
     "data": {
      "text/plain": [
       "1.16503777130066"
      ]
     },
     "execution_count": 26,
     "metadata": {},
     "output_type": "execute_result"
    }
   ],
   "source": [
    "accuracy.rmse(cb_pred)"
   ]
  },
  {
   "cell_type": "markdown",
   "id": "55da8f5e",
   "metadata": {},
   "source": [
    "## Initial 5-fold cross validation"
   ]
  },
  {
   "cell_type": "code",
   "execution_count": 31,
   "id": "d8ad9e8c",
   "metadata": {},
   "outputs": [
    {
     "name": "stdout",
     "output_type": "stream",
     "text": [
      "Evaluating RMSE, MAE of algorithm SVD on 5 split(s).\n",
      "\n",
      "                  Fold 1  Fold 2  Fold 3  Fold 4  Fold 5  Mean    Std     \n",
      "RMSE (testset)    1.0735  1.0848  1.0763  1.0783  1.0724  1.0771  0.0044  \n",
      "MAE (testset)     0.7965  0.8014  0.7977  0.7977  0.7935  0.7974  0.0026  \n",
      "Fit time          9.12    9.85    10.18   9.49    10.06   9.74    0.39    \n",
      "Test time         0.49    0.24    0.45    0.31    0.28    0.35    0.10    \n"
     ]
    },
    {
     "data": {
      "text/plain": [
       "{'test_rmse': array([1.07347372, 1.08480392, 1.07628691, 1.07833851, 1.07241557]),\n",
       " 'test_mae': array([0.79648146, 0.801445  , 0.79771275, 0.79768635, 0.79345443]),\n",
       " 'fit_time': (9.122963666915894,\n",
       "  9.851638078689575,\n",
       "  10.179760217666626,\n",
       "  9.490942239761353,\n",
       "  10.058072805404663),\n",
       " 'test_time': (0.4916532039642334,\n",
       "  0.23604631423950195,\n",
       "  0.4511888027191162,\n",
       "  0.31372904777526855,\n",
       "  0.2799563407897949)}"
      ]
     },
     "execution_count": 31,
     "metadata": {},
     "output_type": "execute_result"
    }
   ],
   "source": [
    "from surprise import SVD\n",
    "from surprise import Dataset\n",
    "from surprise.model_selection import cross_validate\n",
    "\n",
    "# set up reader with min rating and max rating as arguments\n",
    "reader = Reader(rating_scale=(1, 5))\n",
    "df_data = Dataset.load_from_df(data[['userID', 'asin', 'overall']] , reader)\n",
    "\n",
    "# We'll use the famous SVD algorithm.\n",
    "algo = SVD()\n",
    "\n",
    "# Run 5-fold cross-validation and print results\n",
    "cross_validate(algo, df_data, measures=['RMSE', 'MAE'], cv=5, verbose=True)"
   ]
  },
  {
   "cell_type": "markdown",
   "id": "71f69830",
   "metadata": {},
   "source": [
    "## Cross validation for individual parameters"
   ]
  },
  {
   "cell_type": "code",
   "execution_count": 32,
   "id": "c7a86807",
   "metadata": {},
   "outputs": [
    {
     "data": {
      "text/plain": [
       "[1.07511617723569,\n",
       " 1.075175490263262,\n",
       " 1.074793607463239,\n",
       " 1.0744333832132194,\n",
       " 1.074575450494684,\n",
       " 1.0740157615503203,\n",
       " 1.074460058446763,\n",
       " 1.0744842347584183,\n",
       " 1.0741133047468325,\n",
       " 1.0740008907232248,\n",
       " 1.0737940927443934,\n",
       " 1.074893408235216,\n",
       " 1.0742609445701987,\n",
       " 1.0742889165810365,\n",
       " 1.0737867337744538,\n",
       " 1.0743121068013823,\n",
       " 1.0733751228125379,\n",
       " 1.0735072698210584,\n",
       " 1.0739500044101031,\n",
       " 1.0754143924124357,\n",
       " 1.073815977019434,\n",
       " 1.0738531422254938,\n",
       " 1.0737044107972227,\n",
       " 1.0745630222181592,\n",
       " 1.0733123717146864,\n",
       " 1.0740448035750105,\n",
       " 1.0743856696744056,\n",
       " 1.07427116782489,\n",
       " 1.0731228891685718,\n",
       " 1.0734192854397597,\n",
       " 1.073830910768057,\n",
       " 1.073885702308297,\n",
       " 1.0738511740596568,\n",
       " 1.0735979513616667,\n",
       " 1.0738222070040446,\n",
       " 1.074514711280648,\n",
       " 1.0731171658830585,\n",
       " 1.0740529902558769,\n",
       " 1.0732987631486348,\n",
       " 1.0743072588937599,\n",
       " 1.074465757525529,\n",
       " 1.0740654772357465,\n",
       " 1.0730290132864337,\n",
       " 1.07446688651589,\n",
       " 1.074947440553763,\n",
       " 1.0745318084650264,\n",
       " 1.0742569762737069,\n",
       " 1.0737793264495743,\n",
       " 1.0743217706079398,\n",
       " 1.0744049144901557,\n",
       " 1.074625455652149,\n",
       " 1.0746888722538182,\n",
       " 1.0747301914498557,\n",
       " 1.0748408977359472,\n",
       " 1.0747422487519809,\n",
       " 1.0738238241398705,\n",
       " 1.0745364074922232,\n",
       " 1.075150766461363,\n",
       " 1.0741670334258044,\n",
       " 1.074030945718682,\n",
       " 1.0753207334202866,\n",
       " 1.0744116499549805,\n",
       " 1.0755218472109753,\n",
       " 1.075203888565694,\n",
       " 1.0745120289510492,\n",
       " 1.0739075366821713,\n",
       " 1.0751522201532313,\n",
       " 1.0741599131362054,\n",
       " 1.0754835944780585,\n",
       " 1.0742117912160076,\n",
       " 1.0750743733085764,\n",
       " 1.0752263791696282,\n",
       " 1.0762852095981603,\n",
       " 1.0765612031592418,\n",
       " 1.0753370187864322,\n",
       " 1.0756959376122657,\n",
       " 1.075106441246892,\n",
       " 1.0755057413314284,\n",
       " 1.074354836344733,\n",
       " 1.0752015999542466,\n",
       " 1.0762366426888572,\n",
       " 1.0752502660032832,\n",
       " 1.077811194539827,\n",
       " 1.0753681090406553,\n",
       " 1.075169054800466,\n",
       " 1.0754474287997706,\n",
       " 1.0760684327451293,\n",
       " 1.0756110304336146,\n",
       " 1.075887210728394,\n",
       " 1.0763272581108139,\n",
       " 1.0760974675131734,\n",
       " 1.0766413120888731,\n",
       " 1.075716003551236,\n",
       " 1.0765914445490474,\n",
       " 1.0763840844196888,\n",
       " 1.076462264916569,\n",
       " 1.0763667691374885,\n",
       " 1.076193418340525,\n",
       " 1.0766972331691738,\n",
       " 1.077627227984596]"
      ]
     },
     "execution_count": 32,
     "metadata": {},
     "output_type": "execute_result"
    }
   ],
   "source": [
    "def rmse_vs_factors_n_factors(algorithm, data):\n",
    "#Returns: rmse_algorithm i.e. a list of mean RMSE of CV = 5 in cross_validate() for each  factor k in range(1, 101, 1)\n",
    "#100 values \n",
    "  \n",
    "  rmse_algorithm = []\n",
    "  \n",
    "  for k in range(1, 101, 1):\n",
    "    algo = algorithm(n_factors = k)\n",
    "    \n",
    "    #[\"test_rmse\"] is a numpy array with min accuracy value for each testset\n",
    "    loss_fce = cross_validate(algo, data, measures=['RMSE'], cv=5, verbose=False)[\"test_rmse\"].mean() \n",
    "    rmse_algorithm.append(loss_fce)\n",
    "  \n",
    "  return rmse_algorithm\n",
    "\n",
    "rmse_svd_n_factors = rmse_vs_factors_n_factors(SVD,df_train)\n",
    "\n",
    "rmse_svd_n_factors\n",
    "#n_factor = 26 is the minimum"
   ]
  },
  {
   "cell_type": "code",
   "execution_count": 33,
   "id": "f4a67bbe",
   "metadata": {},
   "outputs": [
    {
     "data": {
      "text/plain": [
       "[1.0894865808889986,\n",
       " 1.0859191314923244,\n",
       " 1.0847995525466452,\n",
       " 1.083147713624175,\n",
       " 1.0828070517067576,\n",
       " 1.0811193606430145,\n",
       " 1.0797064863457024,\n",
       " 1.078811829597961,\n",
       " 1.077912177014352,\n",
       " 1.0774770173087307,\n",
       " 1.0767092444339936,\n",
       " 1.0750527260598672,\n",
       " 1.0749207142523638,\n",
       " 1.0746510151912345,\n",
       " 1.0754319491500364,\n",
       " 1.0747003448688734,\n",
       " 1.0754071649813375,\n",
       " 1.0747356760620612,\n",
       " 1.0740990596989364,\n",
       " 1.0741032950305809,\n",
       " 1.0748204758158697,\n",
       " 1.0753646110422943,\n",
       " 1.0752858541978616,\n",
       " 1.0754652082330747,\n",
       " 1.076124431211253,\n",
       " 1.0740079806138083,\n",
       " 1.074133713744067,\n",
       " 1.0757121899295665,\n",
       " 1.075363672084856,\n",
       " 1.0764330992241926,\n",
       " 1.0766819849765406,\n",
       " 1.079130596288485,\n",
       " 1.0772175996616322,\n",
       " 1.0784592837255877,\n",
       " 1.07769044421946,\n",
       " 1.0784609782784316,\n",
       " 1.079349695518537,\n",
       " 1.077538623068008,\n",
       " 1.0773131896991837,\n",
       " 1.079066679808402,\n",
       " 1.0794662656400342,\n",
       " 1.0786710511696511,\n",
       " 1.0791099203717418,\n",
       " 1.078677864573366,\n",
       " 1.079834928549627,\n",
       " 1.0795024039439483,\n",
       " 1.0794501526134668,\n",
       " 1.0776508514246408,\n",
       " 1.078338648692247,\n",
       " 1.0818596721829716,\n",
       " 1.0778182921691466,\n",
       " 1.0806973780322555,\n",
       " 1.0798653211798763,\n",
       " 1.0798593536066314,\n",
       " 1.0811983652991894,\n",
       " 1.0809028024959548,\n",
       " 1.0792191182371291,\n",
       " 1.079586254139913,\n",
       " 1.0786093408510375,\n",
       " 1.0800348606884822,\n",
       " 1.0792308507827795,\n",
       " 1.080687002667497,\n",
       " 1.078896573035196,\n",
       " 1.0809417517511464,\n",
       " 1.08007371846069,\n",
       " 1.0804988606466126,\n",
       " 1.0791832880213033,\n",
       " 1.0812037004996267,\n",
       " 1.0795439978369608,\n",
       " 1.077815014033907,\n",
       " 1.0796743492845748,\n",
       " 1.0803476847946756,\n",
       " 1.0803390126305028,\n",
       " 1.0797117466193153,\n",
       " 1.0792269690789258,\n",
       " 1.0808371484196881,\n",
       " 1.0780099270045236,\n",
       " 1.0795170636127236,\n",
       " 1.0777549664156543,\n",
       " 1.0791173251669064,\n",
       " 1.0793947766951213,\n",
       " 1.0788090023485482,\n",
       " 1.0784696129559213,\n",
       " 1.0800331387297215,\n",
       " 1.0775990925794239,\n",
       " 1.0778257611354922,\n",
       " 1.077449782334106,\n",
       " 1.0795525577849419,\n",
       " 1.0783543216562066,\n",
       " 1.0787096259072866,\n",
       " 1.0776085437713565]"
      ]
     },
     "execution_count": 33,
     "metadata": {},
     "output_type": "execute_result"
    }
   ],
   "source": [
    "def rmse_vs_factors_n_epochs(algorithm, data):\n",
    "#Returns: rmse_algorithm i.e. a list of mean RMSE of CV = 5 in cross_validate() for each n_epochs in range(10, 101, 1)\n",
    " \n",
    "  \n",
    "  rmse_algorithm = []\n",
    "  \n",
    "  for k in range(10, 101, 1):\n",
    "    algo = algorithm(n_epochs = k)\n",
    "    \n",
    "    #[\"test_rmse\"] is a numpy array with min accuracy value for each testset\n",
    "    loss_fce = cross_validate(algo, data, measures=['RMSE'], cv=5, verbose=False)[\"test_rmse\"].mean() \n",
    "    rmse_algorithm.append(loss_fce)\n",
    "  \n",
    "  return rmse_algorithm\n",
    "\n",
    "rmse_svd_n_epochs = rmse_vs_factors_n_epochs(SVD,df_train)\n",
    "\n",
    "rmse_svd_n_epochs\n",
    "#n_epochs = 16 gives the minimum RMSE"
   ]
  },
  {
   "cell_type": "code",
   "execution_count": 34,
   "id": "cad08308",
   "metadata": {},
   "outputs": [
    {
     "data": {
      "text/plain": [
       "[1.0927125812337746,\n",
       " 1.0861926197437815,\n",
       " 1.0802737188256202,\n",
       " 1.0765033981059524,\n",
       " 1.0757521333547155,\n",
       " 1.0738715814144146,\n",
       " 1.0750962404903035,\n",
       " 1.0747590310173234]"
      ]
     },
     "execution_count": 34,
     "metadata": {},
     "output_type": "execute_result"
    }
   ],
   "source": [
    "def rmse_vs_factors_lr_all(algorithm, data):\n",
    "#Returns: rmse_algorithm i.e. a list of mean RMSE of CV = 5 in cross_validate() for each  lr_all in the list\n",
    "#[0.002, 0.003, 0.004, 0.005, 0.006, 0.007, 0.008, 0.009]\n",
    "  \n",
    "  rmse_algorithm = []\n",
    "  list_lr_all = [0.002, 0.003, 0.004, 0.005, 0.006, 0.007, 0.008, 0.009]\n",
    "  for k in range(len(list_lr_all)):\n",
    "    algo = algorithm(lr_all = list_lr_all[k])\n",
    "    \n",
    "    #[\"test_rmse\"] is a numpy array with min accuracy value for each testset\n",
    "    loss_fce = cross_validate(algo, data, measures=['RMSE'], cv=5, verbose=False)[\"test_rmse\"].mean() \n",
    "    rmse_algorithm.append(loss_fce)\n",
    "  \n",
    "  return rmse_algorithm\n",
    "\n",
    "rmse_svd_lr_all = rmse_vs_factors_lr_all(SVD,df_train)\n",
    "\n",
    "rmse_svd_lr_all\n",
    "# lr_all = 0.007 gives minimum RMSE"
   ]
  },
  {
   "cell_type": "code",
   "execution_count": 35,
   "id": "6ee0f4ad",
   "metadata": {},
   "outputs": [
    {
     "data": {
      "text/plain": [
       "[1.0748800720808478,\n",
       " 1.0757271917185354,\n",
       " 1.0760768280946165,\n",
       " 1.0765492675103912,\n",
       " 1.0779895660032062,\n",
       " 1.0790243115834386,\n",
       " 1.0799970128681111,\n",
       " 1.081583828802045]"
      ]
     },
     "execution_count": 35,
     "metadata": {},
     "output_type": "execute_result"
    }
   ],
   "source": [
    "def rmse_vs_factors_reg_all(algorithm, data):\n",
    "#Returns: rmse_algorithm i.e. a list of mean RMSE of CV = 5 in cross_validate() for each  reg_all in list\n",
    "#[0.2, 0.3, 0.4, 0.5, 0.6, 0.7, 0.8, 0.9]\n",
    "\n",
    "  rmse_algorithm = []\n",
    "  list_reg_all = [0.2, 0.3, 0.4, 0.5, 0.6, 0.7, 0.8, 0.9]\n",
    "  for k in range(len(list_reg_all)):\n",
    "    algo = algorithm(reg_all = list_reg_all[k])\n",
    "    \n",
    "    #[\"test_rmse\"] is a numpy array with min accuracy value for each testset\n",
    "    loss_fce = cross_validate(algo, data, measures=['RMSE'], cv=5, verbose=False)[\"test_rmse\"].mean() \n",
    "    rmse_algorithm.append(loss_fce)\n",
    "  \n",
    "  return rmse_algorithm\n",
    "\n",
    "rmse_svd_reg_all = rmse_vs_factors_reg_all(SVD,df_train)\n",
    "rmse_svd_reg_all\n",
    "#reg_all = 0.2 gives less rmse"
   ]
  },
  {
   "cell_type": "markdown",
   "id": "9be12c02",
   "metadata": {},
   "source": [
    "### Hyper parameter tuning for SVD as it gave good results"
   ]
  },
  {
   "cell_type": "code",
   "execution_count": 36,
   "id": "a26d8541",
   "metadata": {},
   "outputs": [
    {
     "name": "stdout",
     "output_type": "stream",
     "text": [
      "1.0528529864172103\n",
      "{'n_epochs': 120, 'lr_all': 0.009, 'reg_all': 0.2, 'n_factors': 210}\n"
     ]
    }
   ],
   "source": [
    "from surprise.model_selection import GridSearchCV\n",
    "\n",
    "# set up reader with min rating and max rating as arguments\n",
    "reader = Reader(rating_scale=(1, 5))\n",
    "data_df = Dataset.load_from_df(data[['userID', 'asin', 'overall']], reader)\n",
    "\n",
    "\n",
    "# define param grid options for Grid Search Cross validation\n",
    "param_grid = {'n_epochs': [120,140,160], 'lr_all': [0.009],\n",
    "              'reg_all': [0.2], 'n_factors':[170, 190, 210]}\n",
    "\n",
    "gs = GridSearchCV(SVD, param_grid, measures=['rmse', 'mae'], cv=10)\n",
    "\n",
    "gs.fit(data_df)\n",
    "\n",
    "# best RMSE score\n",
    "print(gs.best_score['rmse'])\n",
    "\n",
    "# combination of parameters that gave the best RMSE score\n",
    "print(gs.best_params['rmse'])"
   ]
  },
  {
   "cell_type": "code",
   "execution_count": 37,
   "id": "36ebe914",
   "metadata": {},
   "outputs": [],
   "source": [
    "#predict ratings with best estimators from grid search and write to csv.\n",
    "algo = gs.best_estimator['rmse']\n",
    "\n",
    "algo.fit(data_df.build_full_trainset())\n",
    "\n",
    "pred_list = list()\n",
    "\n",
    "for i in range(len(test_student)):\n",
    "    u_i = test_student.iloc[i,:]\n",
    "    pred_list.append(algo.predict(u_i.userID,u_i.asin).est)\n",
    "\n",
    "pred_ratings = pd.concat([test_student,pd.DataFrame(pred_list)], axis = 1)\n",
    "del pred_ratings['userID'], pred_ratings['asin']\n",
    "pred_ratings = pred_ratings.rename(columns = {'ID':'ID', 0:'overall'})\n",
    "pred_ratings.to_csv('./Data_Kaggle/pred_ratings.csv', index = False)"
   ]
  }
 ],
 "metadata": {
  "kernelspec": {
   "display_name": "Python 3",
   "language": "python",
   "name": "python3"
  },
  "language_info": {
   "codemirror_mode": {
    "name": "ipython",
    "version": 3
   },
   "file_extension": ".py",
   "mimetype": "text/x-python",
   "name": "python",
   "nbconvert_exporter": "python",
   "pygments_lexer": "ipython3",
   "version": "3.9.4"
  }
 },
 "nbformat": 4,
 "nbformat_minor": 5
}
